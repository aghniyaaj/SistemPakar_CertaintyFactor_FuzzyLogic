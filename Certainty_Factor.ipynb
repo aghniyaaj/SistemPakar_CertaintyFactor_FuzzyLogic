{
  "nbformat": 4,
  "nbformat_minor": 0,
  "metadata": {
    "colab": {
      "provenance": [],
      "authorship_tag": "ABX9TyNzKkcsOraSxjTHFMWBhpVT",
      "include_colab_link": true
    },
    "kernelspec": {
      "name": "python3",
      "display_name": "Python 3"
    },
    "language_info": {
      "name": "python"
    }
  },
  "cells": [
    {
      "cell_type": "markdown",
      "metadata": {
        "id": "view-in-github",
        "colab_type": "text"
      },
      "source": [
        "<a href=\"https://colab.research.google.com/github/aghniyaaj/SistemPakar_CertaintyFactor_FuzzyLogic/blob/main/Certainty_Factor.ipynb\" target=\"_parent\"><img src=\"https://colab.research.google.com/assets/colab-badge.svg\" alt=\"Open In Colab\"/></a>"
      ]
    },
    {
      "cell_type": "markdown",
      "source": [
        "**Certainty Factor**\n",
        "\n",
        "---\n",
        "\n",
        "**Mengubah Demam menjadi 0.2**"
      ],
      "metadata": {
        "id": "oqx1rJS5PxGa"
      }
    },
    {
      "cell_type": "code",
      "execution_count": 6,
      "metadata": {
        "colab": {
          "base_uri": "https://localhost:8080/"
        },
        "id": "jOV7gSbAO5MU",
        "outputId": "7ceeb7bf-b995-4330-d1c2-4410a91a00d8"
      },
      "outputs": [
        {
          "output_type": "stream",
          "name": "stdout",
          "text": [
            "CF dianosis Flu: 0.65\n"
          ]
        }
      ],
      "source": [
        "gejala_user = {\n",
        "    \"demam\": 0.2,\n",
        "    \"batuk\": 0.5,\n",
        "    \"sakit_tenggorokan\": 0.6\n",
        "}\n",
        "\n",
        "pengetahuan = {\n",
        "    \"flu\": {\n",
        "        \"demam\": 0.8,\n",
        "        \"batuk\": 0.7,\n",
        "        \"sakit_tenggorokan\": 0.6\n",
        "    }\n",
        "}\n",
        "\n",
        "def hitung_cf(gejala_user, pengetahuan_pakar):\n",
        "  cf_total = 0\n",
        "  first = True\n",
        "  for gejala, cf_user in gejala_user.items():\n",
        "    if gejala in pengetahuan_pakar:\n",
        "      cf_pakar = pengetahuan_pakar[gejala]\n",
        "      cf = cf_user * cf_pakar\n",
        "      if first:\n",
        "        cf_total = cf\n",
        "        first = False\n",
        "      else:\n",
        "        cf_total = cf_total + cf * (1 - cf_total)\n",
        "  return cf_total\n",
        "\n",
        "cf_flu = hitung_cf(gejala_user, pengetahuan[\"flu\"])\n",
        "print(f\"CF dianosis Flu: {cf_flu:.2f}\")"
      ]
    },
    {
      "cell_type": "markdown",
      "source": [
        "**SETELAH PERUBAHAN**\n",
        "\n",
        "---\n",
        "\n",
        "\n",
        "\n",
        "1.   Merubah nilai demam menjadi 0.2\n",
        "2.   Menabahkan 5 gejala baru (pilek, sakit kepala, lemas, nyeri otot, dan mual)\n",
        "\n",
        "\n",
        "\n"
      ],
      "metadata": {
        "id": "aS8l5EM7QBOq"
      }
    },
    {
      "cell_type": "code",
      "source": [
        "gejala_user = {\n",
        "    \"demam\": 0.2,  # diubah dari 0.7\n",
        "    \"batuk\": 0.5,\n",
        "    \"sakit_tenggorokan\": 0.6,\n",
        "    # penambahan 5 gejala\n",
        "    \"pilek\": 0.4,\n",
        "    \"sakit_kepala\": 0.3,\n",
        "    \"lemas\": 0.5,\n",
        "    \"nyeri_otot\": 0.4,\n",
        "    \"mual\": 0.2\n",
        "}\n",
        "\n",
        "pengetahuan = {\n",
        "    \"flu\": {\n",
        "        \"demam\": 0.8,\n",
        "        \"batuk\": 0.7,\n",
        "        \"sakit_tenggorokan\": 0.6,\n",
        "        \"pilek\": 0.9,\n",
        "        \"sakit_kepala\": 0.6,\n",
        "        \"lemas\": 0.7,\n",
        "        \"nyeri_otot\": 0.5,\n",
        "        \"mual\": 0.3\n",
        "    }\n",
        "}\n",
        "\n",
        "def hitung_cf(gejala_user, pengetahuan_pakar):\n",
        "    cf_total = 0\n",
        "    first = True\n",
        "    for gejala, cf_user in gejala_user.items():\n",
        "        if gejala in pengetahuan_pakar:\n",
        "            cf_pakar = pengetahuan_pakar[gejala]\n",
        "            cf = cf_user * cf_pakar\n",
        "            if first:\n",
        "                cf_total = cf\n",
        "                first = False\n",
        "            else:\n",
        "                cf_total = cf_total + cf * (1 - cf_total)\n",
        "    return cf_total\n",
        "\n",
        "cf_flu = hitung_cf(gejala_user, pengetahuan[\"flu\"])\n",
        "print(f\"CF diagnosa Flu: {cf_flu:.2f}\")"
      ],
      "metadata": {
        "colab": {
          "base_uri": "https://localhost:8080/"
        },
        "id": "6d-F_zmVRmo9",
        "outputId": "05944f7d-d720-426e-cf62-e3e81a448c9d"
      },
      "execution_count": 5,
      "outputs": [
        {
          "output_type": "stream",
          "name": "stdout",
          "text": [
            "CF diagnosa Flu: 0.91\n"
          ]
        }
      ]
    },
    {
      "cell_type": "markdown",
      "source": [
        "**PENJELASAN**\n",
        "\n",
        "---\n",
        "1. Merubah nilai demam menjadi 0.2\n",
        "Perubahan demam yang semula 0.7 diubah menjadi 0.2 maka terdapat perubahan pada CF demam yang semula 0.7 * 0.8 = 0.56 dan saat perubahan dengan 0.2 maka CF demam menjadi 0.2 * 0.8 = 0.16. Nilai CF demam menjadi lebih kecil.\n",
        "Perubahan tersebut mengakibatkan perbedaan dari jumlah CF gabungan. Karena nilai demam dikurangi maka nilai CF flu menjadi lebih kecil.\n",
        "2. Menambah 5 gejala\n",
        "Dengan penambahan gejala, maka diagnosis flu akan jauh lebih tinggi karena lebih banyak gejala yang mendukung dengan nilai CF cukup tinggi."
      ],
      "metadata": {
        "id": "9z8wFkW2QJRx"
      }
    }
  ]
}